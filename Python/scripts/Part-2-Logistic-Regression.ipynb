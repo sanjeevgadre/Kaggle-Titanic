{
 "cells": [
  {
   "cell_type": "markdown",
   "metadata": {},
   "source": [
    "### Libraries"
   ]
  },
  {
   "cell_type": "code",
   "execution_count": 1,
   "metadata": {},
   "outputs": [],
   "source": [
    "import numpy as np\n",
    "import pandas as pd\n",
    "import matplotlib.pyplot as plt\n",
    "\n",
    "from sklearn.preprocessing import PolynomialFeatures\n",
    "from sklearn.model_selection import train_test_split, learning_curve, GridSearchCV\n",
    "from sklearn.linear_model import LogisticRegression\n",
    "from sklearn.pipeline import make_pipeline"
   ]
  },
  {
   "cell_type": "markdown",
   "metadata": {},
   "source": [
    "### Get Data\n",
    "<ol>\n",
    "    <li> We get the, previously cleansed, <i>train</i> dataset.\n",
    "</ol>"
   ]
  },
  {
   "cell_type": "code",
   "execution_count": 2,
   "metadata": {},
   "outputs": [],
   "source": [
    "X = pd.read_hdf('../wip-data/X_train.h5', key = 'df')\n",
    "y = pd.read_hdf('../wip-data/y_train.h5', key = 'df')"
   ]
  },
  {
   "cell_type": "markdown",
   "metadata": {},
   "source": [
    "### Learning Curves\n",
    "<ol>\n",
    "    <li> We plot learning curves for the <i>train</i> dataset using an unpenalized logistic regression model. This allows us to gain better insight into the bias-variance tradeoff we are likely to encounter in fitting a logistic regression model and better inform our choice of a appropriate model for the given dataset.\n",
    "</ol>"
   ]
  },
  {
   "cell_type": "code",
   "execution_count": 3,
   "metadata": {},
   "outputs": [
    {
     "data": {
      "image/png": "[encoded data removed]",
      "text/plain": [
       "<Figure size 576x288 with 1 Axes>"
      ]
     },
     "metadata": {
      "needs_background": "light"
     },
     "output_type": "display_data"
    }
   ],
   "source": [
    "clf = LogisticRegression(max_iter = 1000, random_state = 1970, penalty = 'none')\n",
    "train_sizes, train_scores, val_scores = learning_curve(clf, X, y, train_sizes = np.logspace(-1, 0, 25),\n",
    "                                                       shuffle = True, random_state = 1970)\n",
    "\n",
    "plt.figure(figsize = (8,4))\n",
    "plt.plot(train_sizes, train_scores.mean(axis = 1), label = 'training', color = 'red')\n",
    "plt.plot(train_sizes, val_scores.mean(axis = 1), label = 'cross val', color = 'green')\n",
    "plt.xlabel('Training Set Size')\n",
    "plt.ylabel('% Variance Explained')\n",
    "plt.legend()\n",
    "plt.title('Learning Curves: Logistic Regression Model')\n",
    "plt.show()"
   ]
  },
  {
   "cell_type": "markdown",
   "metadata": {},
   "source": [
    "#### Observation\n",
    "<ol>\n",
    "    <li> The two learning curves rapidly converge indicating that a Logistic Regression Model using the <i>train</i> dataset is likely to \"suffer\" from a <i>bias</i> rather than a <i>variance</i> problem.\n",
    "    <li> The model performance can be improved by either getting more data points (not possible in this case) or increasing the number of features (by developing, say, interaction features) included in the model.\n",
    "</ol>"
   ]
  },
  {
   "cell_type": "markdown",
   "metadata": {},
   "source": [
    "### Logistic Regression Models\n",
    "<ol>\n",
    "    <li> We use the <i>train-validate</i> strategy to estimate the test error.\n",
    "    <li> Recall that the learning curves indicate that the quality of the logistic regression model would improve with either additional data or additional features. We introduce new features by adding polynomial and interaction features, built from the original features in the dataset, and use this enhanced feature set to build a new logistic regression model.\n",
    "    <li> We build 3 models that use different penalty functions - <b>None, L1</b> and <b>L2</b>. For the later two functions, we choose a range of values for the penalty strength parameter.\n",
    "    <li> We use Gridsearch with 5 fold cross validation to determine the best model using prediction accuracy as the metric.\n",
    " </ol>"
   ]
  },
  {
   "cell_type": "code",
   "execution_count": 4,
   "metadata": {},
   "outputs": [
    {
     "name": "stdout",
     "output_type": "stream",
     "text": [
      "The best estimated test set accuracy for the Logistic Regression model = 81.564246 %\n",
      "The parameters for the best fit Logistic Regression model are:  {'logisticregression__C': 0.1, 'logisticregression__penalty': 'l2'}\n"
     ]
    }
   ],
   "source": [
    "X_train, X_val, y_train, y_val = train_test_split(X, y, test_size = 0.2, random_state = 1970)\n",
    "\n",
    "poly_feat = PolynomialFeatures()\n",
    "lrc = make_pipeline(poly_feat, clf)\n",
    "\n",
    "grid = [{'logisticregression__penalty' : ['none']},\n",
    "        {'logisticregression__penalty' : ['l2'], 'logisticregression__C' : [0.001, 0.1, 1]},\n",
    "        {'logisticregression__penalty' : ['l1'], 'logisticregression__C' : [0.001, 0.1, 1], \n",
    "         'logisticregression__solver' : ['liblinear']}]\n",
    "\n",
    "grid_search  = GridSearchCV(lrc, param_grid = grid, scoring = 'accuracy')\n",
    "grid_search.fit(X_train, y_train)\n",
    "est_test_acc = grid_search.score(X_val, y_val)*100\n",
    "best_params = grid_search.best_params_\n",
    "\n",
    "print(\"The best estimated test set accuracy for the Logistic Regression model = %f\" % est_test_acc,\"%\")\n",
    "print(\"The parameters for the best fit Logistic Regression model are: \", best_params)\n"
   ]
  },
  {
   "cell_type": "markdown",
   "metadata": {},
   "source": [
    "#### Observations\n",
    "<ol>\n",
    "    <li> The Ridge penalized model with polynomial and interaction features represents the best model when using the Logistic Regression learning algorithm\n",
    " </ol>"
   ]
  },
  {
   "cell_type": "markdown",
   "metadata": {},
   "source": [
    "### Predictions\n",
    "<ol>\n",
    "    <li>We build a logistic regression classifier using the Ridge Penalized algorithm and the parameters identified as providing the best results in the previous step.\n",
    "    <li>We fit the model to the entire <i>train</i> dataset to obtain the coefficients of the model.\n",
    "    <li>We use the fitted model to predict for the <i>test</i> dataset.\n",
    "    <li>Finally, we create the submission file in the required format."
   ]
  },
  {
   "cell_type": "code",
   "execution_count": 6,
   "metadata": {},
   "outputs": [],
   "source": [
    "lrc.set_params(**best_params)\n",
    "\n",
    "X_train, y_train = X, y\n",
    "X_test = pd.read_hdf('../wip-data/X_test.h5', key = 'df')\n",
    "\n",
    "lrc.fit(X_train, y_train)\n",
    "preds = lrc.predict(X_test)[:, np.newaxis]\n",
    "idx = np.arange(X_train.shape[0]+1, X_train.shape[0]+1+X_test.shape[0])[:, np.newaxis]\n",
    "\n",
    "columns = ['PassengerId', 'Survived']\n",
    "\n",
    "dat = np.hstack((idx,preds))\n",
    "dat = pd.DataFrame(dat, columns = columns)\n",
    "dat.to_csv('../../data/out_LOGIT.csv', index = False)"
   ]
  }
 ],
 "metadata": {
  "kernelspec": {
   "display_name": "Python 3",
   "language": "python",
   "name": "python3"
  },
  "language_info": {
   "codemirror_mode": {
    "name": "ipython",
    "version": 3
   },
   "file_extension": ".py",
   "mimetype": "text/x-python",
   "name": "python",
   "nbconvert_exporter": "python",
   "pygments_lexer": "ipython3",
   "version": "3.7.4"
  }
 },
 "nbformat": 4,
 "nbformat_minor": 2
}
