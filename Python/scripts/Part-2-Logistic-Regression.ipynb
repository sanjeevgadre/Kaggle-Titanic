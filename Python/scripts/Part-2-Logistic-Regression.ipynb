{
 "cells": [
  {
   "cell_type": "markdown",
   "metadata": {},
   "source": [
    "### Libraries"
   ]
  },
  {
   "cell_type": "code",
   "execution_count": 31,
   "metadata": {},
   "outputs": [],
   "source": [
    "import numpy as np\n",
    "import pandas as pd\n",
    "import matplotlib.pyplot as plt\n",
    "from sklearn.model_selection import train_test_split, learning_curve\n",
    "from sklearn.linear_model import LogisticRegression"
   ]
  },
  {
   "cell_type": "markdown",
   "metadata": {},
   "source": [
    "### Get Data\n",
    "<ol>\n",
    "    <li> We get the, previously cleansed, <i>train</i> dataset.\n",
    "</ol>"
   ]
  },
  {
   "cell_type": "code",
   "execution_count": 32,
   "metadata": {},
   "outputs": [],
   "source": [
    "X = pd.read_hdf('../wip-data/X_train.h5', key = 'df')\n",
    "y = pd.read_hdf('../wip-data/y_train.h5', key = 'df')"
   ]
  },
  {
   "cell_type": "markdown",
   "metadata": {},
   "source": [
    "### Learning Curves\n",
    "<ol>\n",
    "    <li> We plot learning curves for the <i>train</i> dataset using an unpenalized logistic regression model. This allows us to gain better insight into the bias-variance tradeoff we are likely to encounter in fitting a logistic regression model and better inform our choice of a appropriate model for the given dataset.\n",
    "</ol>"
   ]
  },
  {
   "cell_type": "code",
   "execution_count": 33,
   "metadata": {},
   "outputs": [
    {
     "data": {
      "image/png": "[encoded data removed]",
      "text/plain": [
       "<Figure size 576x288 with 1 Axes>"
      ]
     },
     "metadata": {
      "needs_background": "light"
     },
     "output_type": "display_data"
    }
   ],
   "source": [
    "clf_logit = LogisticRegression(max_iter = 10000, penalty = 'none', random_state = 1970)\n",
    "train_sizes, train_scores, val_scores = learning_curve(clf_logit, X, y, train_sizes = np.logspace(-1, 0, 25),\n",
    "                                                       shuffle = True, random_state = 1970)\n",
    "\n",
    "plt.figure(figsize = (8,4))\n",
    "plt.plot(train_sizes, train_scores.mean(axis = 1), label = 'training', color = 'red')\n",
    "plt.plot(train_sizes, val_scores.mean(axis = 1), label = 'cross val', color = 'green')\n",
    "plt.xlabel('Training Set Size')\n",
    "plt.ylabel('% Variance Explained')\n",
    "plt.legend()\n",
    "plt.title('Learning Curves: Logistic Regression Model')\n",
    "plt.show()"
   ]
  },
  {
   "cell_type": "markdown",
   "metadata": {},
   "source": [
    "#### Observation\n",
    "<ol>\n",
    "    <li> The two learning curves rapidly converge indicating that a Logistic Regression Model using the <i>train</i> dataset is likely to \"suffer\" from a <i>bias</i> rather than a <i>variance</i> problem.\n",
    "    <li> The model performance can be improved by either getting more data points (not possible in this case) or increasing the number of features (by developing, say, interaction features) included in the model.\n",
    "</ol>"
   ]
  },
  {
   "cell_type": "markdown",
   "metadata": {},
   "source": [
    "### Logistic Regression Models\n",
    "<ol>\n",
    "    <li> We use the <i>train-validate</i> strategy to estimate the test error.\n",
    "    <li> We begin with an unpenalised logistic regression that includes all features. The estimated test set accuracy for this model forms the baseline to compare and contrast the efficacy of other models that we develop.\n",
    "    <li> For the model developed in the previous step, we recurrsively eliminate features, using cross validation, to select the best set of features.\n",
    "    <li> We ascertain if the reduced set of features does indeed produce a model with better estimated test set accuracye than the baseline.\n",
    "</ol>"
   ]
  },
  {
   "cell_type": "code",
   "execution_count": 34,
   "metadata": {},
   "outputs": [
    {
     "name": "stdout",
     "output_type": "stream",
     "text": [
      "The estimated test set accuracy for the unpenalized logistic regression model = 73.743017 %\n",
      "Of the 14 features, the optimal number of features to include in the model is 13\n",
      "The estimated test set accuracy for the model with reduced set of features = 73.743017 %\n",
      "The features to be eliminated are ['Fare']\n"
     ]
    }
   ],
   "source": [
    "X_train, X_val, y_train, y_val = train_test_split(X, y, test_size = 0.2, random_state = 1970)\n",
    "\n",
    "est_test_acc = clf_logit.fit(X_train, y_train).score(X_val, y_val)*100 \n",
    "\n",
    "print(\"The estimated test set accuracy for the unpenalized logistic regression model = %f\" % est_test_acc,\"%\")\n",
    "\n",
    "from sklearn.feature_selection import RFECV\n",
    "\n",
    "rfecv = RFECV(estimator = clf_logit, step = 1, cv = 5, scoring = 'accuracy').fit(X_train, y_train)\n",
    "est_test_acc = rfecv.score(X_val, y_val)*100\n",
    "\n",
    "print(\"Of the %d features, the optimal number of features to include in the model is %d\" \n",
    "      % (len(X.columns.values), rfecv.n_features_))\n",
    "print(\"The estimated test set accuracy for the model with reduced set of features = %f\" % est_test_acc,\"%\")\n",
    "print(\"The features to be eliminated are %s\" % X.columns.values[rfecv.get_support() == False] )"
   ]
  },
  {
   "cell_type": "markdown",
   "metadata": {},
   "source": [
    "#### Observations\n",
    "<ol>\n",
    "    <li>The estimated test set accuracy for the model with reduced set of features remains exactly the same as the baseline and this indicates we can eliminate the identified feature without any adverse impact.\n",
    "    <li> Recall that the learning curves indicate that the quality of a regression model would improve with either additional data or additional features.\n",
    "    <li> We introduce new features by adding polynomial and interaction features, built from the original features in the dataset, and use this enhanced feature set to build a new logistic regression model.\n",
    "    <li> Adding new features is likely to dramatically increase the number of features and we will use both L1 penalty and L2 penalty to regularize the regression models.\n",
    "    <li> We will ascertain if the models with additional (regularized) features improve on the baseline estimated test error.\n",
    " </ol>"
   ]
  },
  {
   "cell_type": "code",
   "execution_count": 35,
   "metadata": {},
   "outputs": [],
   "source": [
    "X_train = X_train.drop('Fare', axis = 1)\n",
    "X_val = X_val.drop('Fare', axis = 1)"
   ]
  },
  {
   "cell_type": "code",
   "execution_count": 36,
   "metadata": {},
   "outputs": [
    {
     "name": "stdout",
     "output_type": "stream",
     "text": [
      "The estimated test set accuracy for a logistic model with polynomial and interaction features but Ridge regularized = 81.564246 %\n",
      "The estimated test set accuracy for a logistic model with polynomial and interaction features but Lasso regularized = 81.005587 %\n"
     ]
    }
   ],
   "source": [
    "from sklearn.preprocessing import PolynomialFeatures\n",
    "from sklearn.pipeline import make_pipeline\n",
    "\n",
    "poly_feat = PolynomialFeatures()\n",
    "clf_logit_ridge = LogisticRegression(max_iter = 10000, penalty = 'l2', random_state = 1970)\n",
    "clf_logit_lasso = LogisticRegression(max_iter = 10000, penalty = 'l1', random_state = 1970, solver = 'liblinear')\n",
    "\n",
    "pipe_ridge = make_pipeline(poly_feat, clf_logit_ridge)\n",
    "pipe_ridge.fit(X_train, y_train)\n",
    "est_test_acc = pipe_ridge.score(X_val, y_val)*100\n",
    "print(\"The estimated test set accuracy for a logistic model with polynomial and interaction features but Ridge regularized = %f\" % est_test_acc,\"%\")\n",
    "\n",
    "pipe_lasso = make_pipeline(poly_feat, clf_logit_lasso)\n",
    "pipe_lasso.fit(X_train, y_train)\n",
    "est_test_acc = pipe_lasso.score(X_val, y_val)*100\n",
    "print(\"The estimated test set accuracy for a logistic model with polynomial and interaction features but Lasso regularized = %f\" % est_test_acc,\"%\")"
   ]
  },
  {
   "cell_type": "markdown",
   "metadata": {},
   "source": [
    "#### Observations\n",
    "<ol>\n",
    "    <li> The estimated test set accuracy for both model with polynomial and interaction features is substandially better than the baseline number, with the Ridge penalized model doing slightly better than the Lasso penalized model.\n",
    "    <li> The Ridge penalized model with polynomial and interactin features represents the best model when using the Logistic Regression algorithm\n",
    " </ol>"
   ]
  }
 ],
 "metadata": {
  "kernelspec": {
   "display_name": "Python 3",
   "language": "python",
   "name": "python3"
  },
  "language_info": {
   "codemirror_mode": {
    "name": "ipython",
    "version": 3
   },
   "file_extension": ".py",
   "mimetype": "text/x-python",
   "name": "python",
   "nbconvert_exporter": "python",
   "pygments_lexer": "ipython3",
   "version": "3.7.4"
  }
 },
 "nbformat": 4,
 "nbformat_minor": 2
}
