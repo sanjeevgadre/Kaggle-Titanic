{
 "cells": [
  {
   "cell_type": "markdown",
   "metadata": {},
   "source": [
    "### Libraries"
   ]
  },
  {
   "cell_type": "code",
   "execution_count": 1,
   "metadata": {},
   "outputs": [],
   "source": [
    "import numpy as np\n",
    "import pandas as pd\n",
    "from sklearn.model_selection import train_test_split\n",
    "from sklearn.linear_model import LogisticRegression"
   ]
  },
  {
   "cell_type": "markdown",
   "metadata": {},
   "source": [
    "### Get Data"
   ]
  },
  {
   "cell_type": "code",
   "execution_count": 2,
   "metadata": {},
   "outputs": [],
   "source": [
    "X = pd.read_hdf('../wip-data/X_train.h5', key = 'df')\n",
    "y = pd.read_hdf('../wip-data/y_train.h5', key = 'df')"
   ]
  },
  {
   "cell_type": "markdown",
   "metadata": {},
   "source": [
    "### Unpenalized Logistic Regression Models\n",
    "<ol>\n",
    "    <li> We use the <i>train-validate</i> strategy to estimate the test error.\n",
    "    <li> We begin with an unpenalised logistic regression that includes all features. The estimated test error for this model forms the baseline to compare and contrast the efficacy of other models that we develop.\n",
    "</ol>"
   ]
  },
  {
   "cell_type": "code",
   "execution_count": 94,
   "metadata": {},
   "outputs": [
    {
     "name": "stdout",
     "output_type": "stream",
     "text": [
      "The estimated test error for the unpenalized logistic regression model = 26.256983 %\n"
     ]
    }
   ],
   "source": [
    "X_train, X_val, y_train, y_val = train_test_split(X, y, test_size = 0.2, random_state = 1970)\n",
    "\n",
    "clf = LogisticRegression(max_iter = 10000, penalty = 'none').fit(X_train, y_train)\n",
    "base_est_test_error = (1 - clf.score(X_val, y_val))*100\n",
    "\n",
    "print(\"The estimated test error for the unpenalized logistic regression model = %f\" % est_test_error,\"%\")"
   ]
  },
  {
   "cell_type": "markdown",
   "metadata": {},
   "source": [
    "#### Recursive Feature Elimination using Cross Validation\n",
    "<ol>\n",
    "    <li> For the model developed in the previous step, we recurrsively eliminate features, using cross validation, to select the best set of features.\n",
    "    <li> We ascertain if the reduced set of features does indeed produce a model with better estimated test error than the baseline.\n",
    "</ol>"
   ]
  },
  {
   "cell_type": "code",
   "execution_count": 88,
   "metadata": {},
   "outputs": [
    {
     "name": "stdout",
     "output_type": "stream",
     "text": [
      "Of the 14 features, the optimal number of features : 13\n",
      "The estimated test error for the new model = 26.256983 %\n",
      "The features to be eliminated are ['Fare']\n"
     ]
    }
   ],
   "source": [
    "from sklearn.feature_selection import RFECV\n",
    "\n",
    "rfecv = RFECV(estimator = clf, step = 1, cv = 5, scoring = 'accuracy').fit(X_train, y_train)\n",
    "est_test_error = (1 - rfecv.score(X_val, y_val))*100\n",
    "\n",
    "print(\"Of the %d features, the optimal number of features to include in the model is %d\" \n",
    "      % (len(X.columns.values), rfecv.n_features_))\n",
    "print(\"The estimated test error for the new model = %f\" % est_test_error,\"%\")\n",
    "print(\"The features to be eliminated are %s\" % X.columns.values[rfecv.get_support() == False] )"
   ]
  },
  {
   "cell_type": "markdown",
   "metadata": {},
   "source": [
    "#### Transforming the <i>train</i> Dataset\n",
    "The estimated test error for the new model remains exactly the same as the baseline and we can eliminate the identified feature without any adverse impact"
   ]
  },
  {
   "cell_type": "code",
   "execution_count": 89,
   "metadata": {},
   "outputs": [],
   "source": [
    "X_train = rfecv.transform(X_train)\n",
    "X_val = rfecv.transform(X_val)"
   ]
  },
  {
   "cell_type": "markdown",
   "metadata": {},
   "source": [
    "#### Adding Interaction Features\n",
    "<ol>\n",
    "    <li> Recall that the learning curves indicate that the quality of a regression model would improve with either additional data or additional features.\n",
    "    <li> We introduce new features by adding interaction features, built from the original features in the dataset, and use this enhanced feature set to build a new logistic regression model.\n",
    "    <li> We will ascertain if the model with additional features improves on the baseline estimated test error."
   ]
  },
  {
   "cell_type": "code",
   "execution_count": 99,
   "metadata": {},
   "outputs": [],
   "source": [
    "from sklearn.preprocessing import PolynomialFeatures\n",
    "from sklearn.pipeline import make_pipeline\n",
    "\n",
    "add_feat = PolynomialFeatures(interaction_only = True)\n",
    "\n",
    "pipeline = make_pipeline(add_feat, clf)\n",
    "pipeline.fit(X_train, y_train)\n",
    "pipeline.score(X_val, y_val)"
   ]
  },
  {
   "cell_type": "code",
   "execution_count": 102,
   "metadata": {},
   "outputs": [
    {
     "name": "stdout",
     "output_type": "stream",
     "text": [
      "The estimated test error for the new model = 17.877095 %\n"
     ]
    }
   ],
   "source": [
    "pipeline.fit(X_train, y_train)\n",
    "est_test_error = (1 - pipeline.score(X_val, y_val))*100\n",
    "print(\"The estimated test error for the new model = %f\" % est_test_error,\"%\")"
   ]
  },
  {
   "cell_type": "code",
   "execution_count": 104,
   "metadata": {},
   "outputs": [
    {
     "ename": "AttributeError",
     "evalue": "'Pipeline' object has no attribute 'coeff_'",
     "output_type": "error",
     "traceback": [
      "\u001b[0;31m---------------------------------------------------------------------------\u001b[0m",
      "\u001b[0;31mAttributeError\u001b[0m                            Traceback (most recent call last)",
      "\u001b[0;32m<ipython-input-104-9195a58c3729>\u001b[0m in \u001b[0;36m<module>\u001b[0;34m\u001b[0m\n\u001b[1;32m      1\u001b[0m \u001b[0;31m#RFECV(estimator = pipeline, step = 1, cv = 5, scoring = 'accuracy').fit(X_train, y_train)\u001b[0m\u001b[0;34m\u001b[0m\u001b[0;34m\u001b[0m\u001b[0;34m\u001b[0m\u001b[0m\n\u001b[0;32m----> 2\u001b[0;31m \u001b[0mpipeline\u001b[0m\u001b[0;34m.\u001b[0m\u001b[0mcoeff_\u001b[0m\u001b[0;34m\u001b[0m\u001b[0;34m\u001b[0m\u001b[0m\n\u001b[0m",
      "\u001b[0;31mAttributeError\u001b[0m: 'Pipeline' object has no attribute 'coeff_'"
     ]
    }
   ],
   "source": [
    "#RFECV(estimator = pipeline, step = 1, cv = 5, scoring = 'accuracy').fit(X_train, y_train)\n",
    "pipeline.coeff_"
   ]
  }
 ],
 "metadata": {
  "kernelspec": {
   "display_name": "Python 3",
   "language": "python",
   "name": "python3"
  },
  "language_info": {
   "codemirror_mode": {
    "name": "ipython",
    "version": 3
   },
   "file_extension": ".py",
   "mimetype": "text/x-python",
   "name": "python",
   "nbconvert_exporter": "python",
   "pygments_lexer": "ipython3",
   "version": "3.7.4"
  }
 },
 "nbformat": 4,
 "nbformat_minor": 2
}
